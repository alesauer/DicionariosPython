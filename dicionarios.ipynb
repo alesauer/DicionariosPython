{
 "cells": [
  {
   "cell_type": "markdown",
   "metadata": {},
   "source": [
    "# Estrutura de Dicionário em Python 🐍\n",
    "\n",
    "Os dicionários em Python são uma estrutura de dados que permitem armazenar pares de chave-valor. Eles são extremamente úteis quando precisamos associar informações e acessá-las de forma rápida por meio de uma chave única.\n",
    "\n",
    "## Características principais\n",
    "- **Mutáveis**: Podemos adicionar, remover ou modificar pares de chave-valor.\n",
    "- **Chaves únicas**: Cada chave deve ser única dentro do dicionário.\n",
    "- **Desordenados**: Até o Python 3.6, os dicionários não garantiam a ordem dos elementos, mas a partir do Python 3.7, a ordem de inserção é mantida.\n",
    "\n",
    "## Sintaxe\n",
    "Para criar um dicionário, utilizamos `{}` ou a função `dict()`. Veja um exemplo:\n"
   ]
  },
  {
   "cell_type": "code",
   "execution_count": 1,
   "metadata": {},
   "outputs": [],
   "source": [
    "# Criando um dicionário\n",
    "meu_dicionario = {\n",
    "    'nome': 'Alice',\n",
    "    'idade': 30,\n",
    "    'profissão': 'Desenvolvedora'\n",
    "}\n",
    "\n",
    "# Exibindo o dicionário\n",
    "print(meu_dicionario)"
   ]
  },
  {
   "cell_type": "markdown",
   "metadata": {},
   "source": [
    "## Acessando valores\n",
    "Para acessar um valor em um dicionário, utilizamos a chave correspondente. Veja um exemplo:\n"
   ]
  },
  {
   "cell_type": "code",
   "execution_count": 2,
   "metadata": {},
   "outputs": [],
   "source": [
    "# Acessando o valor associado à chave 'nome'\n",
    "print(meu_dicionario['nome'])  # Saída: Alice"
   ]
  },
  {
   "cell_type": "markdown",
   "metadata": {},
   "source": [
    "## Adicionando e modificando valores\n",
    "Podemos adicionar novos pares de chave-valor ou modificar os existentes. Confira:\n"
   ]
  },
  {
   "cell_type": "code",
   "execution_count": 3,
   "metadata": {},
   "outputs": [],
   "source": [
    "# Adicionando uma nova chave\n",
    "meu_dicionario['cidade'] = 'São Paulo'\n",
    "\n",
    "# Modificando um valor existente\n",
    "meu_dicionario['idade'] = 31\n",
    "\n",
    "print(meu_dicionario)"
   ]
  },
  {
   "cell_type": "markdown",
   "metadata": {},
   "source": [
    "## Removendo itens\n",
    "Podemos remover itens de um dicionário utilizando a função `del` ou o método `pop()`:\n"
   ]
  },
  {
   "cell_type": "code",
   "execution_count": 4,
   "metadata": {},
   "outputs": [],
   "source": [
    "# Removendo a chave 'profissão'\n",
    "del meu_dicionario['profissão']\n",
    "print(meu_dicionario)\n",
    "\n",
    "# Usando pop para remover 'cidade'\n",
    "cidade = meu_dicionario.pop('cidade')\n",
    "print(cidade)  # Saída: São Paulo\n",
    "print(meu_dicionario)"
   ]
  },
  {
   "cell_type": "markdown",
   "metadata": {},
   "source": [
    "## Iterando sobre um dicionário\n",
    "Podemos percorrer um dicionário utilizando um loop `for`, o que permite acessar tanto as chaves quanto os valores:\n"
   ]
  },
  {
   "cell_type": "code",
   "execution_count": 5,
   "metadata": {},
   "outputs": [],
   "source": [
    "# Iterando sobre chaves e valores\n",
    "for chave, valor in meu_dicionario.items():\n",
    "    print(f'{chave}: {valor}')"
   ]
  },
  {
   "cell_type": "markdown",
   "metadata": {},
   "source": [
    "## Conclusão\n",
    "Dicionários são uma das estruturas de dados mais importantes em Python, permitindo associar e acessar informações de maneira simples e rápida. Use-os sempre que precisar armazenar dados que possuam uma relação chave-valor! 🚀\n"
   ]
  }
 ],
 "metadata": {
  "kernelspec": {
   "display_name": "Python 3",
   "language": "python",
   "name": "python3"
  },
  "language_info": {
   "name": "python",
   "version": "3.x"
  }
 },
 "nbformat": 4,
 "nbformat_minor": 5
}
